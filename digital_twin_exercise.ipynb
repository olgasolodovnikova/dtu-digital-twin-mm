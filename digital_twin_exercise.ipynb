{
 "cells": [
  {
   "cell_type": "markdown",
   "id": "7517dd61-2e7f-4422-b5bd-2b13fbe2b1b0",
   "metadata": {},
   "source": [
    "## Digital Twin Micro Module Test\n",
    "# What is a Digital Twin?\n",
    "\n",
    "This exercise evaluates the learning objectives for the Digital Twin Micro Module. After completing the module, you should be able to\n",
    "- interact with a digital twin in order to predict the response of a system and suggest improvements. \n",
    "- define the key components of a digital twin and identify areas where digital twins can be applied,\n",
    "- explain the difference between a digital model, a digital shadow, and a digital twin.​\n",
    "\n",
    "The exercise consists of two sets of multiple-choice questions:\n",
    "\n",
    "**Part 1** considers general definitions and concepts of digital twins that reinforce the following learning objectives from the micromodule.\n",
    "\n",
    "**Part 2** contains a simulated interaction with a digital twin. You will need to execute and interact with Python scripts, which are available at the github repository (https://github.com/olgasolodovnikova/dtu-digital-twin-mm.git). You can watch an introductory video covering the installation as well as how you can interact with the code. The files can be evaluated using the included `digital_twin_exercise.ipynb` Jupyter notebook, or executed in your preferred Python IDE. \n"
   ]
  },
  {
   "cell_type": "markdown",
   "id": "ad402dd6-e256-4843-a429-5268f15b3601",
   "metadata": {},
   "source": [
    "## Part 1 - General Definitions and Concepts\n",
    "Select the correct answers."
   ]
  },
  {
   "cell_type": "markdown",
   "id": "7f59d431-fec7-4eb8-8dbc-a6407f65b0d2",
   "metadata": {},
   "source": [
    "### 1. Key components of a digital twin  \n",
    "\n",
    "There are several different definitions of a digital twin. However, the main components are typically the same. Select the components that must be included in a digital twin.\n",
    " \n",
    "- A: Virtual representation of a physical system.\n",
    "\n",
    "- B: Internet availability.  \n",
    "\n",
    "- C: A considered system.\n",
    "\n",
    "- D: Data from a physical system to a virtual model. \n",
    "\n",
    "- E: Data from a virtual model to a physical system. \n",
    "\n",
    "- F: Two virtual models with similar properties. "
   ]
  },
  {
   "cell_type": "markdown",
   "id": "761a7005-8310-42fa-b26e-1af3651b39fa",
   "metadata": {},
   "source": [
    "### 2. Digital model, shadow, and twin\n",
    "\n",
    "One way of categorizing digital twins is by the terms digital model, shadow and twin. Which of the following definitions are accurate descriptions of a digital shadow:\n",
    "\n",
    "- A: A digital shadow is an accurate model of a real physical structure.\n",
    "\n",
    "- B: A digital shadow is a model of a real structure with real-time data used to update the model.\n",
    "\n",
    "- C: A digital shadow is a virtual model of a physical system with real-time transfer of data between the two. "
   ]
  },
  {
   "cell_type": "markdown",
   "id": "2ad59159-45a1-427a-9f30-eeb3760564e9",
   "metadata": {},
   "source": [
    "### 3. Digital model, shadow, and twin\n",
    "\n",
    "One way of categorizing digital twins is by the terms digital model, shadow and twin. Which of the following definitions are accurate descriptions of a digital twin:\n",
    "\n",
    "- A: A digital twin is an accurate model of a real physical structure.\n",
    "\n",
    "- B: A digital twin is a model of a real structure with real-time data used to update the model.\n",
    "\n",
    "- C: A digital twin is a virtual model of a physical system with real-time transfer of data between the two. "
   ]
  },
  {
   "attachments": {},
   "cell_type": "markdown",
   "id": "1f56c103-45e6-4615-84aa-f8afe64897ee",
   "metadata": {},
   "source": [
    "## Part 2 - Interaction With a Digital Twin \n",
    "\n",
    "In this exercise, we consider the implementation of a digital twin for a hydropower plant to optimize the amount of renewable energy produced from the plant. Hydropower uses flow of water through a water turbine to generate electricity. Reservoirs and dams, illustrated in Figure 1, are often used to smoothen the variations in water flow. \n",
    "\n",
    "<div>\n",
    "<img src=\"figs/Fig1.jpg\" width=\"500\"/>       <img src=\"figs/Fig2.jpg\" width=\"423\"/>\n",
    "</div>\n",
    "\n",
    "*Figure 1: Example of a water reservoir and a dam. (Images from: https://group.vattenfall.com/de/newsroom/pressemitteilungen/2021/baustart-solaranlage-am-umpspeicher-geesthacht and https://group.vattenfall.com/de/newsroom/pressemitteilungen/2021/baustart-solaranlage-am-umpspeicher-geesthacht).*\n",
    "\n",
    "**The model**\n",
    "\n",
    "A simplified representation of the plant is sketched in Figure 2. The reservoir is an open tank (assume cylindrical with area $A=300\\:\\text{m}^2$ and **max height ??**). The water level in the tank is $h(t)\\:[\\text{m}]$ where $t$ is the time and $x(t)\\:[\\text{kg}]$ is the mass of water in the tank. $d(t)$ $[\\text{m}^3/\\text{s}]$ is the in-flow of water to the tank from the surroundings (rain, rivers, etc). At the bottom of the tank, a pipe with area $a = 3\\:\\text{m}^2$ connects the water tank to a water turbine that generates electricity. The water flow in the pipe is governed by a valve $ u(t)\\in [0,1]$ where $0$ is fully closed and $1$ is fully opened. The generated power is $z(t)\\: \\text[MW]$. **Why do we need $y(t_k)$ - can't we just use $z(t)$ as the measurement?**\n",
    " \n",
    "<div>\n",
    "<img src=\"figs/Fig3_label.png\" width=\"500\"/>\n",
    "</div>\n",
    "\n",
    "*Figure 2: Sketch of the hydropower plant.*\n",
    "\n",
    "The plant is modelled by a continuous-discrete system of ordinary differential equations (see the supplementary material). \n",
    "\n"
   ]
  },
  {
   "cell_type": "markdown",
   "id": "2de97937-5420-44eb-a5c1-813d2343bf94",
   "metadata": {},
   "source": [
    "**Description of the task**\n",
    "\n",
    "The predicted precipitation from the weather forecast over the next 10 hours is converted into the expected hourly water inflow $d(t)$ $[\\text{m}^3/\\text{s}]$ to the tank. This is stored in `data.Deterministic_dist_profule`. This is only the expected average inflow - in reality the inflow varies stochastically. \n",
    "\n",
    "The hydropower plant produces power to a nearby city. The typical demand $z_D(t)$ over the next 10 hours is also stored in the `data.Power_goal`. \n",
    "\n",
    "Our goal is to always meet the power demand of the city, $z(t) > z_D(t) $, by regulating the valve setting $0\\leq u \\leq 1$ every hour. \n",
    "\n",
    "The `models` and `solvers` modules contain functions for simulating the system  and extracting the power produced by the hydropower plant. "
   ]
  },
  {
   "cell_type": "markdown",
   "id": "0fc007df-e2ac-4970-b4b7-07a2e52c95fb",
   "metadata": {},
   "source": [
    "### Task A - Electricity production\n",
    "\n",
    "\n",
    "Line 28 in the `task_a.py` defines the setting of the valve. What would the total production of electricity be if the valve is fully open, $u(t)=1 \\:\\forall t$, after 10 hours? Select the correct range for the total electricity production. \n",
    "\n",
    "- A: 0.1 - 1.0 MWh. \n",
    "- B: 1.0 - 1.5 MWh \n",
    "- C: 1.5 - 2.0 MWh \n",
    "- D: 2.0 - 3.5 MWh\n",
    "\n",
    "`task_a.py`can be executed via `%run` magic command,"
   ]
  },
  {
   "cell_type": "code",
   "execution_count": null,
   "id": "64885fb7-1752-466c-b59e-deb66b6b46e2",
   "metadata": {},
   "outputs": [],
   "source": [
    "%run task_a.py"
   ]
  },
  {
   "cell_type": "markdown",
   "id": "262c8e6d-4ef5-4f95-bd7b-51ca7d7aee79",
   "metadata": {},
   "source": [
    "### 2. Classification of the model \n",
    "\n",
    "The model used for task A can be used to design the setting of the valve of a real reservoir. How can the model be categorized? \n",
    "\n",
    "- A: Digital model. \n",
    "- B: Digital shadow. \n",
    "- C: Digital twin. \n",
    "- D: None of the above. "
   ]
  },
  {
   "cell_type": "markdown",
   "id": "8b62e229-a205-4e88-a9d2-1d1c3d383972",
   "metadata": {},
   "source": [
    "### 3. Monitoring of the reservoir \n",
    "\n",
    "It will often be of interest to the operator of the reservoir to monitor the system from other locations. One way of doing this could be to measure the water-level in real time and illustrate the results on a figure that can be accessed remotely, e.g. online or through an app. How can such a model be categorized? \n",
    "\n",
    "- A: Digital model. \n",
    "- B: Digital shadow. \n",
    "- C: Digital twin. \n",
    "- D: None of the above. "
   ]
  },
  {
   "cell_type": "markdown",
   "id": "231cc0c0-82ce-4bf0-b47c-52a5b8ac16be",
   "metadata": {},
   "source": [
    "### Task B - Meeting the power demand. \n",
    "The city's power demand varies hourly. The power supply from the hydropower plant must always be above the demand which might require that water is saved up in the dam. The task is to meet the minimum required production of power (orange curve) by manually adjusting the sequence of valve configurations in line 27 of `task_b.py`. Select the correct valve setting from the choices below:\n",
    "\n",
    "- A: `[0.3, 0.2, 0.2, 0.25, 0.35, 0.4, 0.4, 0.41, 0.48, 0.5]` (no longer correct)\n",
    "- B: something else\n",
    "- C: something else\n"
   ]
  },
  {
   "cell_type": "code",
   "execution_count": null,
   "id": "cd36038d-1bdf-4a75-9be5-f8903bc78570",
   "metadata": {},
   "outputs": [],
   "source": [
    "%run task_b.py"
   ]
  },
  {
   "cell_type": "markdown",
   "id": "271c28de-d46e-43bb-a269-e698fc9dcca9",
   "metadata": {},
   "source": [
    "### Task C - Meeting the power demand with model predictive control (MPC)\n",
    "\n",
    "Even for experienced engineers, manually guessing the valve settings is not a good idea. In this scenario, model predictive control can be used to assist the hydroplant engineers in meeting the minimum required power production. Running `task_c.py` automatically results in a sequence of valve settings that meet the requirements. \n",
    "\n",
    "To do: add a disturbance (i.e. an event more disruptive than our irregular inlet flow). "
   ]
  },
  {
   "cell_type": "code",
   "execution_count": null,
   "id": "7e2ec2fc-c1b4-4420-9f47-afd2e340d39b",
   "metadata": {},
   "outputs": [],
   "source": [
    "%run task_c.py"
   ]
  },
  {
   "cell_type": "markdown",
   "id": "473c0579-7e54-4071-abd5-24a73c604af2",
   "metadata": {},
   "source": [
    "### 6. Classification of the model \n",
    "\n",
    "How can the model in Task C be categorized? \n",
    "\n",
    "- A: Digital model. \n",
    "- B: Digital shadow. \n",
    "- C: Digital twin. \n",
    "- D: None of the above. "
   ]
  },
  {
   "cell_type": "markdown",
   "id": "98b3912e-0023-48a1-adfe-13b05c025a99",
   "metadata": {},
   "source": [
    "### 7. What’s the advantage of using the MPC as opposed to guessing the valve settings. \n",
    "### 8. How does the MPC handle the disturbance?\n",
    "### 9. Quantative comparison b/w answers from MPC and human. "
   ]
  },
  {
   "cell_type": "code",
   "execution_count": null,
   "id": "4acec871-09e5-43c8-9f79-9096fba3a1b7",
   "metadata": {},
   "outputs": [],
   "source": []
  }
 ],
 "metadata": {
  "kernelspec": {
   "display_name": "dtmm",
   "language": "python",
   "name": "dtmm"
  },
  "language_info": {
   "codemirror_mode": {
    "name": "ipython",
    "version": 3
   },
   "file_extension": ".py",
   "mimetype": "text/x-python",
   "name": "python",
   "nbconvert_exporter": "python",
   "pygments_lexer": "ipython3",
   "version": "3.11.6"
  }
 },
 "nbformat": 4,
 "nbformat_minor": 5
}
